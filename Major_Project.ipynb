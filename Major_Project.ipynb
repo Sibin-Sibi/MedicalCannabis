{
 "cells": [
  {
   "cell_type": "code",
   "execution_count": 2,
   "metadata": {},
   "outputs": [],
   "source": [
    "#Load Libraries\n",
    "import numpy as np\n",
    "import pandas as pd\n",
    "import matplotlib.pyplot as plt\n",
    "%matplotlib inline\n",
    "import seaborn as sns\n"
   ]
  },
  {
   "cell_type": "code",
   "execution_count": 3,
   "metadata": {},
   "outputs": [],
   "source": [
    "#Load Dataset\n",
    "data=pd.read_csv('./cannabisGrowthRaw2020.csv')"
   ]
  },
  {
   "cell_type": "code",
   "execution_count": 4,
   "metadata": {},
   "outputs": [],
   "source": [
    "#list of missing values in the data\n",
    "mising = [\"?\", \"none\"]\n",
    "data=pd.read_csv(\"./cannabisGrowthRaw2020.csv\", na_values = mising)"
   ]
  },
  {
   "cell_type": "code",
   "execution_count": 5,
   "metadata": {},
   "outputs": [
    {
     "name": "stdout",
     "output_type": "stream",
     "text": [
      "<class 'pandas.core.frame.DataFrame'>\n",
      "RangeIndex: 1472 entries, 0 to 1471\n",
      "Data columns (total 10 columns):\n",
      "PMCno       1458 non-null float64\n",
      "DBH         1470 non-null float64\n",
      "Ht          1470 non-null float64\n",
      "Surv        1284 non-null float64\n",
      "Vig         1334 non-null float64\n",
      "Ins_res     1334 non-null float64\n",
      "Stem_Fm     1334 non-null float64\n",
      "Crown_Fm    1334 non-null float64\n",
      "Brnch_Fm    1334 non-null float64\n",
      "Utility     1112 non-null object\n",
      "dtypes: float64(9), object(1)\n",
      "memory usage: 115.1+ KB\n"
     ]
    }
   ],
   "source": [
    "data.info()"
   ]
  },
  {
   "cell_type": "code",
   "execution_count": 6,
   "metadata": {},
   "outputs": [
    {
     "data": {
      "text/html": [
       "<div>\n",
       "<style scoped>\n",
       "    .dataframe tbody tr th:only-of-type {\n",
       "        vertical-align: middle;\n",
       "    }\n",
       "\n",
       "    .dataframe tbody tr th {\n",
       "        vertical-align: top;\n",
       "    }\n",
       "\n",
       "    .dataframe thead th {\n",
       "        text-align: right;\n",
       "    }\n",
       "</style>\n",
       "<table border=\"1\" class=\"dataframe\">\n",
       "  <thead>\n",
       "    <tr style=\"text-align: right;\">\n",
       "      <th></th>\n",
       "      <th>PMCno</th>\n",
       "      <th>DBH</th>\n",
       "      <th>Ht</th>\n",
       "      <th>Surv</th>\n",
       "      <th>Vig</th>\n",
       "      <th>Ins_res</th>\n",
       "      <th>Stem_Fm</th>\n",
       "      <th>Crown_Fm</th>\n",
       "      <th>Brnch_Fm</th>\n",
       "      <th>Utility</th>\n",
       "    </tr>\n",
       "  </thead>\n",
       "  <tbody>\n",
       "    <tr>\n",
       "      <td>0</td>\n",
       "      <td>1642.0</td>\n",
       "      <td>20.0</td>\n",
       "      <td>11.0</td>\n",
       "      <td>43.0</td>\n",
       "      <td>4.0</td>\n",
       "      <td>3.0</td>\n",
       "      <td>4.0</td>\n",
       "      <td>4.0</td>\n",
       "      <td>4.0</td>\n",
       "      <td>good</td>\n",
       "    </tr>\n",
       "    <tr>\n",
       "      <td>1</td>\n",
       "      <td>1606.0</td>\n",
       "      <td>14.0</td>\n",
       "      <td>10.0</td>\n",
       "      <td>97.0</td>\n",
       "      <td>5.0</td>\n",
       "      <td>4.0</td>\n",
       "      <td>4.0</td>\n",
       "      <td>4.0</td>\n",
       "      <td>3.0</td>\n",
       "      <td>best</td>\n",
       "    </tr>\n",
       "    <tr>\n",
       "      <td>2</td>\n",
       "      <td>1471.0</td>\n",
       "      <td>11.0</td>\n",
       "      <td>7.0</td>\n",
       "      <td>54.0</td>\n",
       "      <td>2.0</td>\n",
       "      <td>3.0</td>\n",
       "      <td>3.0</td>\n",
       "      <td>4.0</td>\n",
       "      <td>3.0</td>\n",
       "      <td>low</td>\n",
       "    </tr>\n",
       "    <tr>\n",
       "      <td>3</td>\n",
       "      <td>1724.0</td>\n",
       "      <td>16.0</td>\n",
       "      <td>10.0</td>\n",
       "      <td>76.0</td>\n",
       "      <td>4.0</td>\n",
       "      <td>3.0</td>\n",
       "      <td>4.0</td>\n",
       "      <td>4.0</td>\n",
       "      <td>4.0</td>\n",
       "      <td>good</td>\n",
       "    </tr>\n",
       "    <tr>\n",
       "      <td>4</td>\n",
       "      <td>2255.0</td>\n",
       "      <td>16.0</td>\n",
       "      <td>12.0</td>\n",
       "      <td>97.0</td>\n",
       "      <td>4.0</td>\n",
       "      <td>3.0</td>\n",
       "      <td>4.0</td>\n",
       "      <td>3.0</td>\n",
       "      <td>3.0</td>\n",
       "      <td>good</td>\n",
       "    </tr>\n",
       "  </tbody>\n",
       "</table>\n",
       "</div>"
      ],
      "text/plain": [
       "    PMCno   DBH    Ht  Surv  Vig  Ins_res  Stem_Fm  Crown_Fm  Brnch_Fm Utility\n",
       "0  1642.0  20.0  11.0  43.0  4.0      3.0      4.0       4.0       4.0    good\n",
       "1  1606.0  14.0  10.0  97.0  5.0      4.0      4.0       4.0       3.0    best\n",
       "2  1471.0  11.0   7.0  54.0  2.0      3.0      3.0       4.0       3.0     low\n",
       "3  1724.0  16.0  10.0  76.0  4.0      3.0      4.0       4.0       4.0    good\n",
       "4  2255.0  16.0  12.0  97.0  4.0      3.0      4.0       3.0       3.0    good"
      ]
     },
     "execution_count": 6,
     "metadata": {},
     "output_type": "execute_result"
    }
   ],
   "source": [
    "data.head()"
   ]
  },
  {
   "cell_type": "code",
   "execution_count": 7,
   "metadata": {},
   "outputs": [
    {
     "data": {
      "text/plain": [
       "PMCno        14\n",
       "DBH           2\n",
       "Ht            2\n",
       "Surv        188\n",
       "Vig         138\n",
       "Ins_res     138\n",
       "Stem_Fm     138\n",
       "Crown_Fm    138\n",
       "Brnch_Fm    138\n",
       "Utility     360\n",
       "dtype: int64"
      ]
     },
     "execution_count": 7,
     "metadata": {},
     "output_type": "execute_result"
    }
   ],
   "source": [
    "#Summary of N/A Values\n",
    "data.isnull().sum()"
   ]
  },
  {
   "cell_type": "code",
   "execution_count": 8,
   "metadata": {},
   "outputs": [],
   "source": [
    "#data cleaning using case deletion\n",
    "data1 = data.dropna()"
   ]
  },
  {
   "cell_type": "code",
   "execution_count": 9,
   "metadata": {},
   "outputs": [],
   "source": [
    "#removing PMCNO coloumn from the data.\n",
    "data2=data1.drop('PMCno',axis=1)"
   ]
  },
  {
   "cell_type": "code",
   "execution_count": 15,
   "metadata": {},
   "outputs": [],
   "source": [
    "#Visualization of All Variables\n",
    "#pairplot = sns.pairplot(data2, hue=\"Utility\")\n",
    "#pairplot"
   ]
  },
  {
   "cell_type": "code",
   "execution_count": 16,
   "metadata": {},
   "outputs": [
    {
     "data": {
      "text/html": [
       "<div>\n",
       "<style scoped>\n",
       "    .dataframe tbody tr th:only-of-type {\n",
       "        vertical-align: middle;\n",
       "    }\n",
       "\n",
       "    .dataframe tbody tr th {\n",
       "        vertical-align: top;\n",
       "    }\n",
       "\n",
       "    .dataframe thead th {\n",
       "        text-align: right;\n",
       "    }\n",
       "</style>\n",
       "<table border=\"1\" class=\"dataframe\">\n",
       "  <thead>\n",
       "    <tr style=\"text-align: right;\">\n",
       "      <th></th>\n",
       "      <th>DBH</th>\n",
       "      <th>Ht</th>\n",
       "      <th>Surv</th>\n",
       "      <th>Vig</th>\n",
       "      <th>Ins_res</th>\n",
       "      <th>Stem_Fm</th>\n",
       "      <th>Crown_Fm</th>\n",
       "      <th>Brnch_Fm</th>\n",
       "    </tr>\n",
       "  </thead>\n",
       "  <tbody>\n",
       "    <tr>\n",
       "      <td>DBH</td>\n",
       "      <td>1.000000</td>\n",
       "      <td>0.078525</td>\n",
       "      <td>-0.038375</td>\n",
       "      <td>0.029540</td>\n",
       "      <td>0.052259</td>\n",
       "      <td>-0.005266</td>\n",
       "      <td>0.016038</td>\n",
       "      <td>-0.016465</td>\n",
       "    </tr>\n",
       "    <tr>\n",
       "      <td>Ht</td>\n",
       "      <td>0.078525</td>\n",
       "      <td>1.000000</td>\n",
       "      <td>-0.247667</td>\n",
       "      <td>0.484807</td>\n",
       "      <td>0.291635</td>\n",
       "      <td>0.227196</td>\n",
       "      <td>0.090726</td>\n",
       "      <td>-0.146722</td>\n",
       "    </tr>\n",
       "    <tr>\n",
       "      <td>Surv</td>\n",
       "      <td>-0.038375</td>\n",
       "      <td>-0.247667</td>\n",
       "      <td>1.000000</td>\n",
       "      <td>0.105041</td>\n",
       "      <td>-0.218819</td>\n",
       "      <td>0.017697</td>\n",
       "      <td>-0.011449</td>\n",
       "      <td>0.085987</td>\n",
       "    </tr>\n",
       "    <tr>\n",
       "      <td>Vig</td>\n",
       "      <td>0.029540</td>\n",
       "      <td>0.484807</td>\n",
       "      <td>0.105041</td>\n",
       "      <td>1.000000</td>\n",
       "      <td>0.413326</td>\n",
       "      <td>0.247700</td>\n",
       "      <td>-0.002384</td>\n",
       "      <td>-0.167087</td>\n",
       "    </tr>\n",
       "    <tr>\n",
       "      <td>Ins_res</td>\n",
       "      <td>0.052259</td>\n",
       "      <td>0.291635</td>\n",
       "      <td>-0.218819</td>\n",
       "      <td>0.413326</td>\n",
       "      <td>1.000000</td>\n",
       "      <td>0.175588</td>\n",
       "      <td>0.125706</td>\n",
       "      <td>-0.031176</td>\n",
       "    </tr>\n",
       "    <tr>\n",
       "      <td>Stem_Fm</td>\n",
       "      <td>-0.005266</td>\n",
       "      <td>0.227196</td>\n",
       "      <td>0.017697</td>\n",
       "      <td>0.247700</td>\n",
       "      <td>0.175588</td>\n",
       "      <td>1.000000</td>\n",
       "      <td>0.664462</td>\n",
       "      <td>0.594891</td>\n",
       "    </tr>\n",
       "    <tr>\n",
       "      <td>Crown_Fm</td>\n",
       "      <td>0.016038</td>\n",
       "      <td>0.090726</td>\n",
       "      <td>-0.011449</td>\n",
       "      <td>-0.002384</td>\n",
       "      <td>0.125706</td>\n",
       "      <td>0.664462</td>\n",
       "      <td>1.000000</td>\n",
       "      <td>0.718249</td>\n",
       "    </tr>\n",
       "    <tr>\n",
       "      <td>Brnch_Fm</td>\n",
       "      <td>-0.016465</td>\n",
       "      <td>-0.146722</td>\n",
       "      <td>0.085987</td>\n",
       "      <td>-0.167087</td>\n",
       "      <td>-0.031176</td>\n",
       "      <td>0.594891</td>\n",
       "      <td>0.718249</td>\n",
       "      <td>1.000000</td>\n",
       "    </tr>\n",
       "  </tbody>\n",
       "</table>\n",
       "</div>"
      ],
      "text/plain": [
       "               DBH        Ht      Surv       Vig   Ins_res   Stem_Fm  \\\n",
       "DBH       1.000000  0.078525 -0.038375  0.029540  0.052259 -0.005266   \n",
       "Ht        0.078525  1.000000 -0.247667  0.484807  0.291635  0.227196   \n",
       "Surv     -0.038375 -0.247667  1.000000  0.105041 -0.218819  0.017697   \n",
       "Vig       0.029540  0.484807  0.105041  1.000000  0.413326  0.247700   \n",
       "Ins_res   0.052259  0.291635 -0.218819  0.413326  1.000000  0.175588   \n",
       "Stem_Fm  -0.005266  0.227196  0.017697  0.247700  0.175588  1.000000   \n",
       "Crown_Fm  0.016038  0.090726 -0.011449 -0.002384  0.125706  0.664462   \n",
       "Brnch_Fm -0.016465 -0.146722  0.085987 -0.167087 -0.031176  0.594891   \n",
       "\n",
       "          Crown_Fm  Brnch_Fm  \n",
       "DBH       0.016038 -0.016465  \n",
       "Ht        0.090726 -0.146722  \n",
       "Surv     -0.011449  0.085987  \n",
       "Vig      -0.002384 -0.167087  \n",
       "Ins_res   0.125706 -0.031176  \n",
       "Stem_Fm   0.664462  0.594891  \n",
       "Crown_Fm  1.000000  0.718249  \n",
       "Brnch_Fm  0.718249  1.000000  "
      ]
     },
     "execution_count": 16,
     "metadata": {},
     "output_type": "execute_result"
    }
   ],
   "source": [
    "data2.corr()"
   ]
  },
  {
   "cell_type": "code",
   "execution_count": 17,
   "metadata": {},
   "outputs": [
    {
     "data": {
      "text/plain": [
       "<matplotlib.axes._subplots.AxesSubplot at 0x1f1ddcd4888>"
      ]
     },
     "execution_count": 17,
     "metadata": {},
     "output_type": "execute_result"
    },
    {
     "data": {
      "image/png": "[encoded data removed]",
      "text/plain": [
       "<Figure size 432x360 with 2 Axes>"
      ]
     },
     "metadata": {
      "needs_background": "light"
     },
     "output_type": "display_data"
    }
   ],
   "source": [
    "#Visualization of Correlations\n",
    "import seaborn as sns\n",
    "f, ax = plt.subplots(figsize =(6, 5)) \n",
    "sns.heatmap(data2.corr(),annot=True, ax = ax,cmap=\"Blues\")"
   ]
  },
  {
   "cell_type": "code",
   "execution_count": 18,
   "metadata": {},
   "outputs": [
    {
     "name": "stdout",
     "output_type": "stream",
     "text": [
      "Correlated columns: {'Brnch_Fm', 'Crown_Fm'}\n"
     ]
    }
   ],
   "source": [
    "#Identify Correlated Columns\n",
    "def correlation(dataset,threshold):\n",
    "    col_corr=set() # set will contains unique values.\n",
    "    corr_matrix=dataset.corr() #finding the correlation between columns.\n",
    "    for i in range(len(corr_matrix.columns)): #number of columns\n",
    "        for j in range(i):\n",
    "            if abs(corr_matrix.iloc[i,j])>threshold: #checking the correlation between columns.\n",
    "                colName=corr_matrix.columns[i] #getting the column name\n",
    "                col_corr.add(colName) #adding the correlated column name heigher than threshold value.\n",
    "    return col_corr #returning set of column names\n",
    "col=correlation(data2.drop('Utility',axis=1),0.6)\n",
    "print('Correlated columns:',col) "
   ]
  },
  {
   "cell_type": "code",
   "execution_count": 19,
   "metadata": {},
   "outputs": [],
   "source": [
    "#Create x and y variables\n",
    "x = data2.drop('Utility', axis=1).values\n",
    "y = data2['Utility'].values"
   ]
  },
  {
   "cell_type": "code",
   "execution_count": 20,
   "metadata": {},
   "outputs": [],
   "source": [
    "#Prepare for Models for Comparison\n",
    "\n",
    "#Load Library for Training\n",
    "from sklearn.model_selection import train_test_split\n",
    "x_train,x_test,y_train,y_test = train_test_split(x,y,test_size = 0.2,stratify=y,random_state = 100)"
   ]
  },
  {
   "cell_type": "code",
   "execution_count": 21,
   "metadata": {},
   "outputs": [
    {
     "ename": "ModuleNotFoundError",
     "evalue": "No module named 'imblearn'",
     "output_type": "error",
     "traceback": [
      "\u001b[1;31m---------------------------------------------------------------------------\u001b[0m",
      "\u001b[1;31mModuleNotFoundError\u001b[0m                       Traceback (most recent call last)",
      "\u001b[1;32m<ipython-input-21-1d5ce18d0b79>\u001b[0m in \u001b[0;36m<module>\u001b[1;34m\u001b[0m\n\u001b[0;32m      1\u001b[0m \u001b[1;31m#Fix the imbalanced Classes\u001b[0m\u001b[1;33m\u001b[0m\u001b[1;33m\u001b[0m\u001b[1;33m\u001b[0m\u001b[0m\n\u001b[1;32m----> 2\u001b[1;33m \u001b[1;32mfrom\u001b[0m \u001b[0mimblearn\u001b[0m\u001b[1;33m.\u001b[0m\u001b[0mover_sampling\u001b[0m \u001b[1;32mimport\u001b[0m \u001b[0mSMOTE\u001b[0m\u001b[1;33m\u001b[0m\u001b[1;33m\u001b[0m\u001b[0m\n\u001b[0m\u001b[0;32m      3\u001b[0m \u001b[0msmt\u001b[0m\u001b[1;33m=\u001b[0m\u001b[0mSMOTE\u001b[0m\u001b[1;33m(\u001b[0m\u001b[0mrandom_state\u001b[0m\u001b[1;33m=\u001b[0m\u001b[1;36m100\u001b[0m\u001b[1;33m)\u001b[0m\u001b[1;33m\u001b[0m\u001b[1;33m\u001b[0m\u001b[0m\n\u001b[0;32m      4\u001b[0m \u001b[0mx_train_smt\u001b[0m\u001b[1;33m,\u001b[0m\u001b[0my_train_smt\u001b[0m \u001b[1;33m=\u001b[0m \u001b[0msmt\u001b[0m\u001b[1;33m.\u001b[0m\u001b[0mfit_resample\u001b[0m\u001b[1;33m(\u001b[0m\u001b[0mx_train\u001b[0m\u001b[1;33m,\u001b[0m\u001b[0my_train\u001b[0m\u001b[1;33m)\u001b[0m\u001b[1;33m\u001b[0m\u001b[1;33m\u001b[0m\u001b[0m\n",
      "\u001b[1;31mModuleNotFoundError\u001b[0m: No module named 'imblearn'"
     ]
    }
   ],
   "source": [
    "#Fix the imbalanced Classes\n",
    "from imblearn.over_sampling import SMOTE\n",
    "smt=SMOTE(random_state=100)\n",
    "x_train_smt,y_train_smt = smt.fit_resample(x_train,y_train)\n"
   ]
  },
  {
   "cell_type": "code",
   "execution_count": null,
   "metadata": {},
   "outputs": [],
   "source": []
  }
 ],
 "metadata": {
  "kernelspec": {
   "display_name": "Python 3",
   "language": "python",
   "name": "python3"
  },
  "language_info": {
   "codemirror_mode": {
    "name": "ipython",
    "version": 3
   },
   "file_extension": ".py",
   "mimetype": "text/x-python",
   "name": "python",
   "nbconvert_exporter": "python",
   "pygments_lexer": "ipython3",
   "version": "3.7.4"
  }
 },
 "nbformat": 4,
 "nbformat_minor": 2
}
